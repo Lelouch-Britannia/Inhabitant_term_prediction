{
 "cells": [
  {
   "cell_type": "markdown",
   "id": "2adb39f4",
   "metadata": {},
   "source": [
    "# Data Collection and Preprocessing"
   ]
  },
  {
   "cell_type": "code",
   "execution_count": 35,
   "id": "7f910b8e",
   "metadata": {},
   "outputs": [],
   "source": [
    "from bs4 import BeautifulSoup\n",
    "import requests\n",
    "import pandas as pd\n",
    "import os\n",
    "import re"
   ]
  },
  {
   "cell_type": "markdown",
   "id": "86a66e83",
   "metadata": {},
   "source": [
    "## Requesting webpage"
   ]
  },
  {
   "cell_type": "code",
   "execution_count": 3,
   "id": "9ccca494",
   "metadata": {},
   "outputs": [
    {
     "data": {
      "text/plain": [
       "200"
      ]
     },
     "execution_count": 3,
     "metadata": {},
     "output_type": "execute_result"
    }
   ],
   "source": [
    "#For sending request and obtainting a response\n",
    "response = requests.get(\"https://en.wikipedia.org/wiki/Demonym\")\n",
    "\n",
    "#To check the status\n",
    "response.status_code "
   ]
  },
  {
   "cell_type": "code",
   "execution_count": 4,
   "id": "a7e45f7e",
   "metadata": {},
   "outputs": [],
   "source": [
    "%%capture\n",
    "dir(response)"
   ]
  },
  {
   "cell_type": "code",
   "execution_count": 5,
   "id": "a9c992a8",
   "metadata": {},
   "outputs": [
    {
     "name": "stdout",
     "output_type": "stream",
     "text": [
      "Url     : https://en.wikipedia.org/wiki/Demonym\n",
      "Date    : Fri, 01 Sep 2023 02:52:21 GMT\n",
      "Content : text/html; charset=UTF-8\n"
     ]
    }
   ],
   "source": [
    "#Header and metadata\n",
    "response.headers #Returns a dictionary\n",
    "date = response.headers[\"date\"]\n",
    "content_type = response.headers[\"content-type\"]\n",
    "\n",
    "print(f\"Url     : {response.url}\")\n",
    "print(f\"Date    : {date}\")\n",
    "print(f\"Content : {content_type}\")"
   ]
  },
  {
   "cell_type": "markdown",
   "id": "cbde3d22",
   "metadata": {},
   "source": [
    "## Using BeautifulSoup"
   ]
  },
  {
   "cell_type": "code",
   "execution_count": 6,
   "id": "d2a2b626",
   "metadata": {},
   "outputs": [],
   "source": [
    "%%capture\n",
    "soup = BeautifulSoup(response.content, \"lxml\")\n",
    "print(soup.prettify())"
   ]
  },
  {
   "cell_type": "code",
   "execution_count": 18,
   "id": "5920e6c0",
   "metadata": {},
   "outputs": [],
   "source": [
    "div_cols = soup.find_all(\"div\", class_=\"div-col\", style=\"column-width: 22em;\")"
   ]
  },
  {
   "cell_type": "code",
   "execution_count": 22,
   "id": "a142301e",
   "metadata": {},
   "outputs": [
    {
     "name": "stdout",
     "output_type": "stream",
     "text": [
      "<li><a href=\"/wiki/Cape_Town\" title=\"Cape Town\">Cape Town</a> - Capetonians</li>\n",
      "<li><a href=\"/wiki/Preston,_Lancashire\" title=\"Preston, Lancashire\">Preston, Lancashire</a> →Prestonians</li>\n",
      "<li><a class=\"mw-redirect\" href=\"/wiki/Caguas\" title=\"Caguas\">Caguas</a> - Caguenos</li>\n",
      "<li><a href=\"/wiki/Andhra_Pradesh\" title=\"Andhra Pradesh\">Andhra</a> - Andhrites</li>\n",
      "<li><a href=\"/wiki/Telangana\" title=\"Telangana\">Telangana</a>→ Telanganites</li>\n",
      "<li><a class=\"mw-redirect\" href=\"/wiki/Nanking\" title=\"Nanking\">Nanjing</a> (Nanking/Nankin)→ Nankinese</li>\n",
      "<li><a class=\"mw-redirect\" href=\"/wiki/Poway,_CA\" title=\"Poway, CA\">Poway, CA</a>→ Powegians</li>\n",
      "<li><a href=\"/wiki/Tasmania\" title=\"Tasmania\">Tasmania</a>→ Taswegians</li>\n",
      "<li><a href=\"/wiki/Tatarstan\" title=\"Tatarstan\">Tatarstan</a> →Tatars</li>\n"
     ]
    }
   ],
   "source": [
    "# Extract desired information\n",
    "locations = []\n",
    "demonyms = []\n",
    "\n",
    "# Loop over each div element\n",
    "for div_col in div_cols:\n",
    "    for li in div_col.find_all('li'):\n",
    "        # Check if ' → ' exists in the text\n",
    "        if ' → ' in li.text:\n",
    "            location, demonym = li.text.split(' → ')\n",
    "            locations.append(location)\n",
    "            demonyms.append(demonym)\n",
    "        else:\n",
    "            print(li)"
   ]
  },
  {
   "cell_type": "code",
   "execution_count": 24,
   "id": "66be9ac5",
   "metadata": {},
   "outputs": [],
   "source": [
    "# Store the extracted data into a pandas DataFrame\n",
    "df = pd.DataFrame({\n",
    "    'Location': locations,\n",
    "    'Demonym': demonyms\n",
    "})"
   ]
  },
  {
   "cell_type": "code",
   "execution_count": 26,
   "id": "7b18687b",
   "metadata": {},
   "outputs": [
    {
     "data": {
      "text/html": [
       "<div>\n",
       "<style scoped>\n",
       "    .dataframe tbody tr th:only-of-type {\n",
       "        vertical-align: middle;\n",
       "    }\n",
       "\n",
       "    .dataframe tbody tr th {\n",
       "        vertical-align: top;\n",
       "    }\n",
       "\n",
       "    .dataframe thead th {\n",
       "        text-align: right;\n",
       "    }\n",
       "</style>\n",
       "<table border=\"1\" class=\"dataframe\">\n",
       "  <thead>\n",
       "    <tr style=\"text-align: right;\">\n",
       "      <th></th>\n",
       "      <th>Location</th>\n",
       "      <th>Demonym</th>\n",
       "    </tr>\n",
       "  </thead>\n",
       "  <tbody>\n",
       "    <tr>\n",
       "      <th>0</th>\n",
       "      <td>Africa</td>\n",
       "      <td>Africans</td>\n",
       "    </tr>\n",
       "    <tr>\n",
       "      <th>1</th>\n",
       "      <td>Antarctica</td>\n",
       "      <td>Antarcticans</td>\n",
       "    </tr>\n",
       "    <tr>\n",
       "      <th>2</th>\n",
       "      <td>Asia</td>\n",
       "      <td>Asians</td>\n",
       "    </tr>\n",
       "    <tr>\n",
       "      <th>3</th>\n",
       "      <td>Australia</td>\n",
       "      <td>Australians</td>\n",
       "    </tr>\n",
       "    <tr>\n",
       "      <th>4</th>\n",
       "      <td>Europe</td>\n",
       "      <td>Europeans</td>\n",
       "    </tr>\n",
       "  </tbody>\n",
       "</table>\n",
       "</div>"
      ],
      "text/plain": [
       "     Location       Demonym\n",
       "0      Africa      Africans\n",
       "1  Antarctica  Antarcticans\n",
       "2        Asia        Asians\n",
       "3   Australia   Australians\n",
       "4      Europe     Europeans"
      ]
     },
     "execution_count": 26,
     "metadata": {},
     "output_type": "execute_result"
    }
   ],
   "source": [
    "df.head()"
   ]
  },
  {
   "cell_type": "code",
   "execution_count": 28,
   "id": "d876dc9d",
   "metadata": {},
   "outputs": [
    {
     "data": {
      "text/plain": [
       "(991, 2)"
      ]
     },
     "execution_count": 28,
     "metadata": {},
     "output_type": "execute_result"
    }
   ],
   "source": [
    "df.shape"
   ]
  },
  {
   "cell_type": "code",
   "execution_count": 27,
   "id": "1980cf8d",
   "metadata": {},
   "outputs": [],
   "source": [
    "# Save the DataFrame to a CSV file\n",
    "path = '../data/loaction_demonym.csv'\n",
    "df.to_csv(path, index=False)"
   ]
  },
  {
   "cell_type": "markdown",
   "id": "4eb95ef9",
   "metadata": {},
   "source": [
    "## Cleaning the data"
   ]
  },
  {
   "cell_type": "code",
   "execution_count": 54,
   "id": "7a51b957",
   "metadata": {},
   "outputs": [],
   "source": [
    "file_path = '../data/loaction_demonym.csv'\n",
    "\n",
    "# Load the CSV file into a DataFrame\n",
    "df = pd.read_csv(file_path)"
   ]
  },
  {
   "cell_type": "code",
   "execution_count": 55,
   "id": "8f92d062",
   "metadata": {},
   "outputs": [],
   "source": [
    "# Convert columns to lowercase\n",
    "df['Location'] = df['Location'].str.lower()\n",
    "df['Demonym'] = df['Demonym'].str.lower()"
   ]
  },
  {
   "cell_type": "markdown",
   "id": "a1451596",
   "metadata": {},
   "source": [
    "### Demonym Cleaning"
   ]
  },
  {
   "cell_type": "code",
   "execution_count": 56,
   "id": "428d9d1e",
   "metadata": {},
   "outputs": [],
   "source": [
    "# Extract the first word in the Demonyn column\n",
    "def clean_demonym(s):\n",
    "    # Extract first word inside quotes\n",
    "    match = re.search(r'\"([^\"]+)\"', s)\n",
    "    if match:\n",
    "        return match.group(1).split(\",\")[0].strip()\n",
    "    \n",
    "    # If not inside quotes, extract the first word before any special characters\n",
    "    return re.split(\"[,;(\\[][0-9]*\", s)[0].strip()\n",
    "\n",
    "df['Demonym'] = df['Demonym'].apply(clean_demonym)"
   ]
  },
  {
   "cell_type": "markdown",
   "id": "4836bb4f",
   "metadata": {},
   "source": [
    "### Location Cleaning"
   ]
  },
  {
   "cell_type": "code",
   "execution_count": 57,
   "id": "8bb68c1a",
   "metadata": {},
   "outputs": [],
   "source": [
    "def clean_location(s):\n",
    "    # Remove surrounding quotes if present\n",
    "    s = s.strip('\"')\n",
    "    \n",
    "    # Split by comma or parenthesis and keep the first part\n",
    "    return re.split(\"[,(]\", s)[0].strip()\n",
    "\n",
    "df['Location'] = df['Location'].apply(clean_location)"
   ]
  },
  {
   "cell_type": "code",
   "execution_count": 58,
   "id": "eb9ffc81",
   "metadata": {},
   "outputs": [],
   "source": [
    "# Replace '-' by space\n",
    "df['Location'] = df['Location'].str.replace('-', ' ')\n",
    "df['Demonym'] = df['Demonym'].str.replace('-', ' ')"
   ]
  },
  {
   "cell_type": "code",
   "execution_count": 59,
   "id": "fe1d0dbf",
   "metadata": {},
   "outputs": [],
   "source": [
    "# Save the DataFrame to a CSV file\n",
    "path = '../data/loaction_demonym_clean.csv'\n",
    "df.to_csv(path, index=False)"
   ]
  }
 ],
 "metadata": {
  "kernelspec": {
   "display_name": "venv",
   "language": "python",
   "name": "venv"
  },
  "language_info": {
   "codemirror_mode": {
    "name": "ipython",
    "version": 3
   },
   "file_extension": ".py",
   "mimetype": "text/x-python",
   "name": "python",
   "nbconvert_exporter": "python",
   "pygments_lexer": "ipython3",
   "version": "3.11.1"
  }
 },
 "nbformat": 4,
 "nbformat_minor": 5
}
